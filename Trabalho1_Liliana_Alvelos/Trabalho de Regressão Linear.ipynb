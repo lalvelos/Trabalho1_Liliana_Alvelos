{
 "cells": [
  {
   "cell_type": "markdown",
   "metadata": {},
   "source": [
    "### TRABALHO PROGRAMAÇÃO - APLICAR MODELO REGRESSÃO LINEAR PARA:\n",
    "###    ESTIMAR PREÇO DE UM BONSAI MEDIANTE O SEU Nº ANOS"
   ]
  },
  {
   "cell_type": "code",
   "execution_count": 2,
   "metadata": {},
   "outputs": [],
   "source": [
    "import numpy as np"
   ]
  },
  {
   "cell_type": "code",
   "execution_count": 3,
   "metadata": {},
   "outputs": [
    {
     "name": "stdout",
     "output_type": "stream",
     "text": [
      "As observações analisadas são as seguintes:\n",
      "Dados\t\t\t\tCoordenadas\n",
      "Bonsai 1 - 8 anos > 60 euros\tx,y=(8, 60)\n",
      "Bonsai 2 - 3 anos > 20 euros\tx,y=(3, 20)\n",
      "Bonsai 3 - 6 anos > 40 euros\tx,y=(6, 40)\n",
      "Bonsai 4 - 16 anos > 140 euros\tx,y=(16, 140)\n",
      "Bonsai 5 - 10 anos > 96 euros\tx,y=(10, 96)\n",
      "Bonsai 6 - 20 anos > 200 euros\tx,y=(20, 200)\n"
     ]
    }
   ],
   "source": [
    "#Dados obtidos sobre bonsais\n",
    "idades =[8,3,6,16,10,20]\n",
    "preco=[60,20,40,140,96,200]\n",
    "dados = np.array([idades,preco])\n",
    "print(f'As observações analisadas são as seguintes:\\nDados\\t\\t\\t\\tCoordenadas')\n",
    "for i, (idade, valor) in enumerate(zip(idades, preco), start=1):\n",
    "    print(f'Bonsai {i} - {idade} anos > {valor} euros\\tx,y={idade,valor}')"
   ]
  },
  {
   "cell_type": "code",
   "execution_count": 4,
   "metadata": {},
   "outputs": [],
   "source": [
    "#Fórmula da regressão linear => Y = coef0+coef1*X\n",
    "#Y,X => dados da hipotese a prever\n",
    "\n",
    "#Cálculo da regressão linear:\n",
    "#1º Calcular as distâncias das observações ao ponto médio:\n",
    "#       1.1 calcular ponto médio\n",
    "#       1.2 Calcular o somatório do produto dos desvios de cada ponto face ao ponto médio =Sum(dX*dY)\n",
    "#           1.2.1 distância de X ao Xmédio =>  dX = Xi-Xmédio\n",
    "#           1.2.2 distância de Y ao Ymédio =>  dY = Yi-Ymédio\n",
    "#       1.3 Calcular o somatório dos quadrados dos desvios de X face ao Xmédio => dX^2 = (Xi-Xmédio)^2\n",
    "#2º Calcular os coeficientes\n",
    "#       2.1 coef1 = Sum (dXi*dYi)/Sum (dXi^2)\n",
    "#       2.2 coef0 =Ymédio-coef1*Xmédio\n",
    "#3º Aplicar a Regressão Linear\n",
    "#4º Visualizar gráficamente"
   ]
  },
  {
   "cell_type": "code",
   "execution_count": 5,
   "metadata": {},
   "outputs": [
    {
     "name": "stdout",
     "output_type": "stream",
     "text": [
      "o ponto médio do conjunto das observações [[  8   3   6  16  10  20]\n",
      " [ 60  20  40 140  96 200]] é x,y=(10,92)\n"
     ]
    }
   ],
   "source": [
    "#1.1 Calcular o ponto médio\n",
    "#calcular o X médio\n",
    "X_medio = sum(idades)/len(idades)\n",
    "#calcular o Y médio\n",
    "Y_medio = sum(preco)/len(preco)\n",
    "print(f'o ponto médio do conjunto das observações {dados} é x,y=({int(X_medio)},{int(Y_medio)})')\n"
   ]
  },
  {
   "cell_type": "code",
   "execution_count": 6,
   "metadata": {},
   "outputs": [
    {
     "data": {
      "text/plain": [
       "2142.0"
      ]
     },
     "execution_count": 6,
     "metadata": {},
     "output_type": "execute_result"
    }
   ],
   "source": [
    "#1.2 Calcular o somatório do produto dos desvios de cada ponto face ao ponto médio =Sum(Xi-Xmédio)*(Yi-Ymédio)\n",
    "def desvios(idades, preco, X_medio, Y_medio):\n",
    "    soma_prod_desvios = 0\n",
    "    for x, y in zip(idades,preco):\n",
    "        soma_prod_desvios += (x - X_medio) * (y - Y_medio)\n",
    "    return soma_prod_desvios\n",
    "   \n",
    "soma_prod_desvios=desvios(idades, preco, X_medio, Y_medio)\n",
    "soma_prod_desvios\n"
   ]
  },
  {
   "cell_type": "code",
   "execution_count": 7,
   "metadata": {},
   "outputs": [
    {
     "data": {
      "text/plain": [
       "203.5"
      ]
     },
     "execution_count": 7,
     "metadata": {},
     "output_type": "execute_result"
    }
   ],
   "source": [
    "#1.3 Calcular o somatório dos quadrados dos desvios do X de cada ponto face ao X do ponto médio =Sum(Xi-Xmédio)^2\n",
    "def quad_X(idades, X_medio):\n",
    "    soma_quad_X = 0\n",
    "    for x in idades:\n",
    "        soma_quad_X += (x - X_medio)**2\n",
    "    return soma_quad_X\n",
    "   \n",
    "soma_quad_X=quad_X(idades, X_medio)\n",
    "soma_quad_X\n"
   ]
  },
  {
   "cell_type": "code",
   "execution_count": 8,
   "metadata": {},
   "outputs": [
    {
     "name": "stdout",
     "output_type": "stream",
     "text": [
      "O modelo de Regressão Linear tem como intercept = -17.85421785421785 e como coeficiente da variável X = 10.525798525798526\n"
     ]
    }
   ],
   "source": [
    "#2.1 coef1 = Sum (dXi*dYi)/Sum (dXi^2)\n",
    "coef1 = soma_prod_desvios/soma_quad_X\n",
    "#2.2 coef0 =Ymédio-coef1*Xmédio\n",
    "coef0 = Y_medio-coef1*X_medio\n",
    "print(f'O modelo de Regressão Linear tem como intercept = {coef0} e como coeficiente da variável X = {coef1}')"
   ]
  },
  {
   "cell_type": "code",
   "execution_count": 9,
   "metadata": {},
   "outputs": [
    {
     "name": "stdout",
     "output_type": "stream",
     "text": [
      "O preço previsto para um bonsai com idade de 8 anos é de 66 euros\n"
     ]
    }
   ],
   "source": [
    "#3º Aplicar a Regressão Linear\n",
    "# Inserir dados a prever\n",
    "X = int(input('Qual a idade do bonsai que pretendes prever a preço?'))\n",
    "\n",
    "# Dados previstos\n",
    "Y_teste = coef0 + coef1*X\n",
    "print(f'O preço previsto para um bonsai com idade de {X} anos é de {int(Y_teste)} euros')"
   ]
  },
  {
   "cell_type": "code",
   "execution_count": 10,
   "metadata": {},
   "outputs": [
    {
     "data": {
      "image/png": "[encoded data removed]",
      "text/plain": [
       "<Figure size 640x480 with 1 Axes>"
      ]
     },
     "metadata": {},
     "output_type": "display_data"
    }
   ],
   "source": [
    "#4º Visualizar gráficamente\n",
    "\n",
    "import matplotlib.pyplot as plt\n",
    "# Criar a linha de regressão linear\n",
    "regression_line = coef0 + coef1 * np.array(idades)\n",
    "\n",
    "# Gráfico das observações\n",
    "plt.scatter(idades, preco, label='Dados')\n",
    "\n",
    "# Gráfico da linha de regressão\n",
    "plt.plot(idades, regression_line, color='red', label='Regressão Linear')\n",
    "\n",
    "# Legendas do gráfico\n",
    "plt.xlabel('Idades')\n",
    "plt.ylabel('Preço')\n",
    "plt.legend()\n",
    "\n",
    "\n",
    "plt.show()"
   ]
  }
 ],
 "metadata": {
  "kernelspec": {
   "display_name": "base",
   "language": "python",
   "name": "python3"
  },
  "language_info": {
   "codemirror_mode": {
    "name": "ipython",
    "version": 3
   },
   "file_extension": ".py",
   "mimetype": "text/x-python",
   "name": "python",
   "nbconvert_exporter": "python",
   "pygments_lexer": "ipython3",
   "version": "3.11.5"
  }
 },
 "nbformat": 4,
 "nbformat_minor": 2
}
